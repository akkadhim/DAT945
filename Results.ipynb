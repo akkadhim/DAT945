{
 "cells": [
  {
   "cell_type": "code",
   "execution_count": 3,
   "id": "049bbaaf-fd87-4f50-a7b0-56e229e8c31d",
   "metadata": {},
   "outputs": [
    {
     "name": "stdout",
     "output_type": "stream",
     "text": [
      "Knowledge clauses for the word: brilliant\n",
      "\n",
      "IMDbKnowledge/1201.pkl\n"
     ]
    },
    {
     "name": "stderr",
     "output_type": "stream",
     "text": [
      "/opt/conda/lib/python3.11/site-packages/sklearn/base.py:348: InconsistentVersionWarning: Trying to unpickle estimator CountVectorizer from version 1.4.2 when using version 1.3.2. This might lead to breaking code or invalid results. Use at your own risk. For more info please refer to:\n",
      "https://scikit-learn.org/stable/model_persistence.html#security-maintainability-limitations\n",
      "  warnings.warn(\n"
     ]
    }
   ],
   "source": [
    "import os\n",
    "from tools import tools\n",
    "from directories import dicrectories\n",
    "def preprocess_text(text):\n",
    "    return text\n",
    "vectorizer_X = tools.read_pickle_data(\"vectorizer_X.pickle\")\n",
    "knowledge_directory = dicrectories.knowledge\n",
    "\n",
    "# word = \"happy\"\n",
    "# id = vectorizer_X.vocabulary_[word]\n",
    "id = 1201\n",
    "word = vectorizer_X.get_feature_names_out()[id]\n",
    "\n",
    "print(\"Knowledge clauses for the word: \" + word + \"\\n\")\n",
    "file_path = dicrectories.pickle_by_id(knowledge_directory,id)\n",
    "print(file_path)\n",
    "clauses = tools.read_pickle_data(file_path)\n",
    "clauses_sorted = sorted(clauses, key=lambda x: x[0], reverse=True)"
   ]
  },
  {
   "cell_type": "code",
   "execution_count": 4,
   "id": "e625f6a3-f935-4473-9972-fab8185151d6",
   "metadata": {},
   "outputs": [
    {
     "name": "stdout",
     "output_type": "stream",
     "text": [
      "(477, ['brilliantly', 'memorable', 'novel'])\n",
      "\n",
      "(429, ['caine', 'fantastic'])\n",
      "\n",
      "(406, ['convincing', 'favourite', 'genius', 'society'])\n",
      "\n",
      "(405, ['brilliantly', 'dramatic', 'perfectly'])\n",
      "\n",
      "(405, ['oscar', 'personal', 'terrific'])\n",
      "\n",
      "(403, ['genius', 'greatest', 'masterpiece', 'soul'])\n",
      "\n",
      "(398, ['intense', 'master', 'unique'])\n",
      "\n",
      "(397, ['lovely', 'portrayal', 'reading', 'relationship'])\n",
      "\n",
      "(392, ['perfectly', 'unforgettable'])\n",
      "\n",
      "(391, ['brilliantly', 'loved', 'moment', 'oscar', 'richard'])\n",
      "\n",
      "(390, ['brilliantly', 'example', 'greatest'])\n",
      "\n",
      "(389, ['masterpiece', 'political', 'subtle'])\n",
      "\n",
      "(386, ['cinema', 'intense', 'master', 'portrayal'])\n",
      "\n",
      "(379, ['above', 'genius', 'stunning', 'subtle', 'won'])\n",
      "\n",
      "(378, ['convincing', 'heart', 'relationship', 'upon'])\n",
      "\n",
      "(375, ['david', 'directors', 'mr', 'superb'])\n",
      "\n",
      "(372, ['personal'])\n",
      "\n",
      "(372, ['british', 'political', 'reality', 'sad', 'stunning'])\n",
      "\n",
      "(372, ['fantastic', 'subtle', 'terrific'])\n",
      "\n",
      "(361, ['dramatic', 'masterpiece', 'superb'])\n",
      "\n",
      "(344, ['cinema', 'finest', 'genius', 'sad'])\n",
      "\n",
      "(323, ['career', 'cinematic', 'ensemble'])\n",
      "\n",
      "(277, ['comedies', 'greatest', 'masterpiece', 'truth'])\n",
      "\n",
      "(273, ['entire', 'poignant'])\n",
      "\n"
     ]
    }
   ],
   "source": [
    "clauses_as_words = []\n",
    "for clause in clauses_sorted:\n",
    "    weight = clause[0]\n",
    "    if weight > 100:\n",
    "        features = []\n",
    "        for feature_id in clause[1]:\n",
    "            features.append(vectorizer_X.get_feature_names_out()[feature_id])\n",
    "        clauses_as_words.append((weight,features))\n",
    "\n",
    "for clause in clauses_as_words:\n",
    "    if len(clause) > 0:\n",
    "        print(clause)\n",
    "        # for feature in clause[0]:\n",
    "        print()"
   ]
  },
  {
   "cell_type": "code",
   "execution_count": null,
   "id": "b0071193-1429-4172-8307-2b89e19f83da",
   "metadata": {},
   "outputs": [],
   "source": []
  }
 ],
 "metadata": {
  "kernelspec": {
   "display_name": "Python 3 (ipykernel)",
   "language": "python",
   "name": "python3"
  },
  "language_info": {
   "codemirror_mode": {
    "name": "ipython",
    "version": 3
   },
   "file_extension": ".py",
   "mimetype": "text/x-python",
   "name": "python",
   "nbconvert_exporter": "python",
   "pygments_lexer": "ipython3",
   "version": "3.11.6"
  }
 },
 "nbformat": 4,
 "nbformat_minor": 5
}
