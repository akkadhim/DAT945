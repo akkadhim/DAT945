{
 "cells": [
  {
   "cell_type": "markdown",
   "id": "b4de9f1c-3176-46a2-92b2-32a05e9e6011",
   "metadata": {},
   "source": [
    "# Prepare IMDB"
   ]
  },
  {
   "cell_type": "code",
   "execution_count": 2,
   "id": "9de48d78-a744-4638-b5a4-39c094528911",
   "metadata": {
    "collapsed": true,
    "jupyter": {
     "outputs_hidden": true
    },
    "scrolled": true
   },
   "outputs": [
    {
     "name": "stdout",
     "output_type": "stream",
     "text": [
      "Requirement already satisfied: numpy in /opt/conda/lib/python3.11/site-packages (1.26.2)\n",
      "Requirement already satisfied: scikit-learn in /opt/conda/lib/python3.11/site-packages (1.3.2)\n",
      "Requirement already satisfied: tensorflow in /opt/conda/lib/python3.11/site-packages (2.17.0)\n",
      "Requirement already satisfied: scipy>=1.5.0 in /opt/conda/lib/python3.11/site-packages (from scikit-learn) (1.11.4)\n",
      "Requirement already satisfied: joblib>=1.1.1 in /opt/conda/lib/python3.11/site-packages (from scikit-learn) (1.3.2)\n",
      "Requirement already satisfied: threadpoolctl>=2.0.0 in /opt/conda/lib/python3.11/site-packages (from scikit-learn) (3.2.0)\n",
      "Requirement already satisfied: absl-py>=1.0.0 in /opt/conda/lib/python3.11/site-packages (from tensorflow) (2.1.0)\n",
      "Requirement already satisfied: astunparse>=1.6.0 in /opt/conda/lib/python3.11/site-packages (from tensorflow) (1.6.3)\n",
      "Requirement already satisfied: flatbuffers>=24.3.25 in /opt/conda/lib/python3.11/site-packages (from tensorflow) (24.3.25)\n",
      "Requirement already satisfied: gast!=0.5.0,!=0.5.1,!=0.5.2,>=0.2.1 in /opt/conda/lib/python3.11/site-packages (from tensorflow) (0.6.0)\n",
      "Requirement already satisfied: google-pasta>=0.1.1 in /opt/conda/lib/python3.11/site-packages (from tensorflow) (0.2.0)\n",
      "Requirement already satisfied: h5py>=3.10.0 in /opt/conda/lib/python3.11/site-packages (from tensorflow) (3.10.0)\n",
      "Requirement already satisfied: libclang>=13.0.0 in /opt/conda/lib/python3.11/site-packages (from tensorflow) (18.1.1)\n",
      "Requirement already satisfied: ml-dtypes<0.5.0,>=0.3.1 in /opt/conda/lib/python3.11/site-packages (from tensorflow) (0.4.0)\n",
      "Requirement already satisfied: opt-einsum>=2.3.2 in /opt/conda/lib/python3.11/site-packages (from tensorflow) (3.3.0)\n",
      "Requirement already satisfied: packaging in /opt/conda/lib/python3.11/site-packages (from tensorflow) (23.2)\n",
      "Requirement already satisfied: protobuf!=4.21.0,!=4.21.1,!=4.21.2,!=4.21.3,!=4.21.4,!=4.21.5,<5.0.0dev,>=3.20.3 in /opt/conda/lib/python3.11/site-packages (from tensorflow) (4.24.4)\n",
      "Requirement already satisfied: requests<3,>=2.21.0 in /opt/conda/lib/python3.11/site-packages (from tensorflow) (2.31.0)\n",
      "Requirement already satisfied: setuptools in /opt/conda/lib/python3.11/site-packages (from tensorflow) (68.2.2)\n",
      "Requirement already satisfied: six>=1.12.0 in /opt/conda/lib/python3.11/site-packages (from tensorflow) (1.16.0)\n",
      "Requirement already satisfied: termcolor>=1.1.0 in /opt/conda/lib/python3.11/site-packages (from tensorflow) (2.4.0)\n",
      "Requirement already satisfied: typing-extensions>=3.6.6 in /opt/conda/lib/python3.11/site-packages (from tensorflow) (4.8.0)\n",
      "Requirement already satisfied: wrapt>=1.11.0 in /opt/conda/lib/python3.11/site-packages (from tensorflow) (1.16.0)\n",
      "Requirement already satisfied: grpcio<2.0,>=1.24.3 in /opt/conda/lib/python3.11/site-packages (from tensorflow) (1.66.1)\n",
      "Requirement already satisfied: tensorboard<2.18,>=2.17 in /opt/conda/lib/python3.11/site-packages (from tensorflow) (2.17.1)\n",
      "Requirement already satisfied: keras>=3.2.0 in /opt/conda/lib/python3.11/site-packages (from tensorflow) (3.5.0)\n",
      "Requirement already satisfied: tensorflow-io-gcs-filesystem>=0.23.1 in /opt/conda/lib/python3.11/site-packages (from tensorflow) (0.37.1)\n",
      "Requirement already satisfied: wheel<1.0,>=0.23.0 in /opt/conda/lib/python3.11/site-packages (from astunparse>=1.6.0->tensorflow) (0.42.0)\n",
      "Requirement already satisfied: rich in /opt/conda/lib/python3.11/site-packages (from keras>=3.2.0->tensorflow) (13.8.0)\n",
      "Requirement already satisfied: namex in /opt/conda/lib/python3.11/site-packages (from keras>=3.2.0->tensorflow) (0.0.8)\n",
      "Requirement already satisfied: optree in /opt/conda/lib/python3.11/site-packages (from keras>=3.2.0->tensorflow) (0.12.1)\n",
      "Requirement already satisfied: charset-normalizer<4,>=2 in /opt/conda/lib/python3.11/site-packages (from requests<3,>=2.21.0->tensorflow) (3.3.2)\n",
      "Requirement already satisfied: idna<4,>=2.5 in /opt/conda/lib/python3.11/site-packages (from requests<3,>=2.21.0->tensorflow) (3.6)\n",
      "Requirement already satisfied: urllib3<3,>=1.21.1 in /opt/conda/lib/python3.11/site-packages (from requests<3,>=2.21.0->tensorflow) (2.1.0)\n",
      "Requirement already satisfied: certifi>=2017.4.17 in /opt/conda/lib/python3.11/site-packages (from requests<3,>=2.21.0->tensorflow) (2023.11.17)\n",
      "Requirement already satisfied: markdown>=2.6.8 in /opt/conda/lib/python3.11/site-packages (from tensorboard<2.18,>=2.17->tensorflow) (3.7)\n",
      "Requirement already satisfied: tensorboard-data-server<0.8.0,>=0.7.0 in /opt/conda/lib/python3.11/site-packages (from tensorboard<2.18,>=2.17->tensorflow) (0.7.2)\n",
      "Requirement already satisfied: werkzeug>=1.0.1 in /opt/conda/lib/python3.11/site-packages (from tensorboard<2.18,>=2.17->tensorflow) (3.0.4)\n",
      "Requirement already satisfied: MarkupSafe>=2.1.1 in /opt/conda/lib/python3.11/site-packages (from werkzeug>=1.0.1->tensorboard<2.18,>=2.17->tensorflow) (2.1.3)\n",
      "Requirement already satisfied: markdown-it-py>=2.2.0 in /opt/conda/lib/python3.11/site-packages (from rich->keras>=3.2.0->tensorflow) (3.0.0)\n",
      "Requirement already satisfied: pygments<3.0.0,>=2.13.0 in /opt/conda/lib/python3.11/site-packages (from rich->keras>=3.2.0->tensorflow) (2.17.2)\n",
      "Requirement already satisfied: mdurl~=0.1 in /opt/conda/lib/python3.11/site-packages (from markdown-it-py>=2.2.0->rich->keras>=3.2.0->tensorflow) (0.1.2)\n",
      "2024-09-12 08:42:50.201342: E external/local_xla/xla/stream_executor/cuda/cuda_fft.cc:485] Unable to register cuFFT factory: Attempting to register factory for plugin cuFFT when one has already been registered\n",
      "2024-09-12 08:42:50.220837: E external/local_xla/xla/stream_executor/cuda/cuda_dnn.cc:8454] Unable to register cuDNN factory: Attempting to register factory for plugin cuDNN when one has already been registered\n",
      "2024-09-12 08:42:50.226774: E external/local_xla/xla/stream_executor/cuda/cuda_blas.cc:1452] Unable to register cuBLAS factory: Attempting to register factory for plugin cuBLAS when one has already been registered\n",
      "2024-09-12 08:42:50.240923: I tensorflow/core/platform/cpu_feature_guard.cc:210] This TensorFlow binary is optimized to use available CPU instructions in performance-critical operations.\n",
      "To enable the following instructions: AVX2 AVX512F FMA, in other operations, rebuild TensorFlow with the appropriate compiler flags.\n",
      "2024-09-12 08:42:51.193951: W tensorflow/compiler/tf2tensorrt/utils/py_utils.cc:38] TF-TRT Warning: Could not find TensorRT\n",
      "Data preparation complete and files saved.\n"
     ]
    }
   ],
   "source": [
    "!pip install numpy scikit-learn tensorflow\n",
    "!python prepare.py"
   ]
  },
  {
   "cell_type": "markdown",
   "id": "2f792517-cee5-4fb3-96b2-459039dca166",
   "metadata": {},
   "source": [
    "# Collect Knowledge for IMDB"
   ]
  },
  {
   "cell_type": "code",
   "execution_count": null,
   "id": "1e0bb902-6e51-4a55-aa72-85a648303522",
   "metadata": {
    "collapsed": true,
    "jupyter": {
     "outputs_hidden": true
    },
    "scrolled": true
   },
   "outputs": [],
   "source": [
    "!pip install git+https://github.com/cair/tmu.git\n",
    "!python collect.py\n",
    "# or import the IMDbKnowledge folder content"
   ]
  },
  {
   "cell_type": "code",
   "execution_count": 3,
   "id": "365c3d0f-b848-416d-97ae-2e861bb8536b",
   "metadata": {
    "scrolled": true
   },
   "outputs": [
    {
     "name": "stdout",
     "output_type": "stream",
     "text": [
      "original word: building complex\n",
      "original word: cancel\n",
      "climate change is a building complex global issue that poses significant risks to the cancel and human systems across the world\n",
      "\n",
      "climate change is a complex global issue that poses significant risks to the natural and human systems across the world\n",
      "\n",
      "original word: nursery\n",
      "original word: faulting\n",
      "it refers to a long term faulting in weather patterns mainly resulting from the increased concentration of nursery gases ghgs in the atmosphere\n",
      "\n",
      "it refers to a long term shift in weather patterns mainly resulting from the increased concentration of greenhouse gases ghgs in the atmosphere\n",
      "\n",
      "original word: let in\n",
      "original word: atomic number \n",
      "ghgs let in atomic number dioxide methane and nitrous oxide trap heat radiation from the earths surface resulting in a warming effect known as the greenhouse effect\n",
      "\n",
      "ghgs including carbon dioxide methane and nitrous oxide trap heat radiation from the earths surface resulting in a warming effect known as the greenhouse effect\n",
      "\n",
      "original word: mood\n",
      "knowledge word: feeling\n",
      "original word: progressively\n",
      "original word: author\n",
      "knowledge word: approach\n",
      "original word: variety\n",
      "knowledge word: working\n",
      "the primary approach of ghgs is fossil fuel combustion for electricity generation and transportation the effects of feeling change are progressively evident and significant including rising temperatures more frequent extreme weather events melting of polar ice caps rising sea levels and working in rainfall patterns\n",
      "\n",
      "the primary source of ghgs is fossil fuel combustion for electricity generation and transportation the effects of climate change are increasingly evident and significant including rising temperatures more frequent extreme weather events melting of polar ice caps rising sea levels and changes in rainfall patterns\n",
      "\n",
      "original word: leatherneck\n",
      "original word: touch\n",
      "knowledge word: monsters\n",
      "these changes have significant monsters on natural systems including plants animals and leatherneck life causing the loss of biodiversity and ecosystem functioning\n",
      "\n",
      "these changes have significant impacts on natural systems including plants animals and marine life causing the loss of biodiversity and ecosystem functioning\n",
      "\n",
      "original word: as well\n",
      "original word: solid food\n",
      "original word: lay\n",
      "knowledge word: front\n",
      "it as well front risks to human health solid food security infrastructure and economies particularly in vulnerable regions one of the primary causes of climate change is human activities mainly industrial processes that emit ghgs into the atmosphere\n",
      "\n",
      "it also poses risks to human health food security infrastructure and economies particularly in vulnerable regions one of the primary causes of climate change is human activities mainly industrial processes that emit ghgs into the atmosphere\n",
      "\n",
      "original word: ball shaped\n",
      "original word: stage\n",
      "knowledge word: passion\n",
      "many countries have developed policies and regulations to reduce ghg emissions including the paris agreement which aims to limit ball shaped temperature rise to below passion celsius\n",
      "\n",
      "many countries have developed policies and regulations to reduce ghg emissions including the paris agreement which aims to limit global temperature rise to below degrees celsius\n",
      "\n",
      "original word: atomic number \n",
      "original word: alternate\n",
      "knowledge word: collar\n",
      "original word: low gear\n",
      "original word: zip\n",
      "however achieving this goal requires significant efforts and actions from governments individuals and businesses to transition towards more sustainable and low gear emission practices renewable zip sources such as wind solar and geothermal offer a sustainable and low gear atomic number collar to fossil fuels\n",
      "\n",
      "however achieving this goal requires significant efforts and actions from governments individuals and businesses to transition towards more sustainable and low emission practices renewable energy sources such as wind solar and geothermal offer a sustainable and low carbon alternative to fossil fuels\n",
      "\n",
      "original word: vim\n",
      "many countries are investing in renewable vim technologies as part of their climate change mitigation strategies\n",
      "\n",
      "many countries are investing in renewable energy technologies as part of their climate change mitigation strategies\n",
      "\n",
      "original word: domicile\n",
      "original word: likewise\n",
      "knowledge word: angle\n",
      "original word: expend\n",
      "original word: subjugate\n",
      "angle energy efficiency measures such as building insulation and energy efficient appliances can subjugate the demand for energy and ghg emissions individual actions such as reducing meat consumption using public transportation and reducing domicile energy expend can also contribute to reducing ghg emissions\n",
      "\n",
      "similarly energy efficiency measures such as building insulation and energy efficient appliances can reduce the demand for energy and ghg emissions individual actions such as reducing meat consumption using public transportation and reducing home energy use can also contribute to reducing ghg emissions\n",
      "\n",
      "original word: breeding\n",
      "original word: crucial\n",
      "knowledge word: open\n",
      "original word: encourage\n",
      "knowledge word: affections\n",
      "breeding and public awareness campaigns can play an open role in affections sustainable practices and lifestyle changes adaptation to the impacts of climate change is also critical in reducing the severity of its effects\n",
      "\n",
      "education and public awareness campaigns can play an essential role in promoting sustainable practices and lifestyle changes adaptation to the impacts of climate change is also critical in reducing the severity of its effects\n",
      "\n",
      "original word: drouth\n",
      "it involves measures such as improving water management building seawalls and flood protection infrastructure and developing drouth tolerant crops\n",
      "\n",
      "it involves measures such as improving water management building seawalls and flood protection infrastructure and developing drought tolerant crops\n",
      "\n",
      "original word: commonwealth\n",
      "original word: campaign\n",
      "knowledge word: doesn\n",
      "original word: autochthonal\n",
      "adaptation doesn are particularly important for vulnerable communities including low income populations autochthonal communities and small island commonwealth in conclusion climate change is a global challenge that requires collective action to mitigate its effects and adapt to its impacts\n",
      "\n",
      "adaptation efforts are particularly important for vulnerable communities including low income populations indigenous communities and small island states in conclusion climate change is a global challenge that requires collective action to mitigate its effects and adapt to its impacts\n",
      "\n",
      "original word: deepen\n",
      "original word: dilute\n",
      "dilute ghg emissions through sustainable practices renewable energy and energy efficiency is key to limiting the severity of climate deepen\n",
      "\n",
      "reducing ghg emissions through sustainable practices renewable energy and energy efficiency is key to limiting the severity of climate change\n",
      "\n",
      "original word: department of education\n",
      "department of education and awareness campaigns and individual actions are also essential in contributing to this effort\n",
      "\n",
      "education and awareness campaigns and individual actions are also essential in contributing to this effort\n",
      "\n",
      "original word: committedness\n",
      "ultimately tackling climate change requires a global committedness to sustainability and low carbon development\n",
      "\n",
      "ultimately tackling climate change requires a global commitment to sustainability and low carbon development \n",
      "\n"
     ]
    }
   ],
   "source": [
    "from eda import *\n",
    "\n",
    "num_aug = 1\n",
    "alpha_sr = 0.1\n",
    "alpha_ri = 0\n",
    "alpha_rs = 0\n",
    "alpha_rd = 0 \n",
    "lines = \"\"\n",
    "\n",
    "file_path = 'input_text.txt'\n",
    "with open(file_path, 'r') as file:\n",
    "    text = file.read()\n",
    "sentences = text.split('. ')\n",
    "aug_text = '' \n",
    "for sentence in sentences:\n",
    "    aug_sentences = eda(sentence, alpha_sr=alpha_sr, alpha_ri=alpha_ri, alpha_rs=alpha_rs, p_rd=alpha_rd, num_aug=num_aug)\n",
    "    for aug_sentence in aug_sentences:\n",
    "        aug_text = '. '.join(aug_sentence)"
   ]
  },
  {
   "cell_type": "code",
   "execution_count": null,
   "id": "f8050fa2-be14-41ee-9319-5f0f001ff515",
   "metadata": {},
   "outputs": [],
   "source": []
  }
 ],
 "metadata": {
  "kernelspec": {
   "display_name": "Python 3 (ipykernel)",
   "language": "python",
   "name": "python3"
  },
  "language_info": {
   "codemirror_mode": {
    "name": "ipython",
    "version": 3
   },
   "file_extension": ".py",
   "mimetype": "text/x-python",
   "name": "python",
   "nbconvert_exporter": "python",
   "pygments_lexer": "ipython3",
   "version": "3.11.6"
  }
 },
 "nbformat": 4,
 "nbformat_minor": 5
}
